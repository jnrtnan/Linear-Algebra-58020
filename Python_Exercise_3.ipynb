{
  "nbformat": 4,
  "nbformat_minor": 0,
  "metadata": {
    "colab": {
      "name": "Python  Exercise 3.ipynb",
      "provenance": [],
      "authorship_tag": "ABX9TyMEbuuTNPBtelNN7f/djVeu",
      "include_colab_link": true
    },
    "kernelspec": {
      "name": "python3",
      "display_name": "Python 3"
    },
    "language_info": {
      "name": "python"
    }
  },
  "cells": [
    {
      "cell_type": "markdown",
      "metadata": {
        "id": "view-in-github",
        "colab_type": "text"
      },
      "source": [
        "<a href=\"https://colab.research.google.com/github/jnrtnan/Linear-Algebra-58020/blob/main/Python_Exercise_3.ipynb\" target=\"_parent\"><img src=\"https://colab.research.google.com/assets/colab-badge.svg\" alt=\"Open In Colab\"/></a>"
      ]
    },
    {
      "cell_type": "code",
      "metadata": {
        "colab": {
          "base_uri": "https://localhost:8080/"
        },
        "id": "BIwlf8Dxj1In",
        "outputId": "7d8cdd64-3330-4a2c-d722-656d4240edcc"
      },
      "source": [
        "import numpy as np\n",
        "\n",
        "A = np.array([[1,1,1],[1,2,2],[1,2,3]])\n",
        "\n",
        "inv_A = np.linalg.inv(A)\n",
        "\n",
        "B = np.array([[5],[6],[8]])\n",
        "\n",
        "X = np.dot(inv_A,B)\n",
        "print(X)"
      ],
      "execution_count": 4,
      "outputs": [
        {
          "output_type": "stream",
          "name": "stdout",
          "text": [
            "[[ 4.]\n",
            " [-1.]\n",
            " [ 2.]]\n"
          ]
        }
      ]
    },
    {
      "cell_type": "code",
      "metadata": {
        "id": "DqlZqbhBlCCz"
      },
      "source": [
        ""
      ],
      "execution_count": null,
      "outputs": []
    }
  ]
}