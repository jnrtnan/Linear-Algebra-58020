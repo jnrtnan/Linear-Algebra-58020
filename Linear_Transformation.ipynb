{
  "nbformat": 4,
  "nbformat_minor": 0,
  "metadata": {
    "colab": {
      "name": "Linear Transformation.ipynb",
      "provenance": [],
      "authorship_tag": "ABX9TyPev2Vugf0EkntmFIx1gMPV",
      "include_colab_link": true
    },
    "kernelspec": {
      "name": "python3",
      "display_name": "Python 3"
    },
    "language_info": {
      "name": "python"
    }
  },
  "cells": [
    {
      "cell_type": "markdown",
      "metadata": {
        "id": "view-in-github",
        "colab_type": "text"
      },
      "source": [
        "<a href=\"https://colab.research.google.com/github/jnrtnan/Linear-Algebra-58020/blob/main/Linear_Transformation.ipynb\" target=\"_parent\"><img src=\"https://colab.research.google.com/assets/colab-badge.svg\" alt=\"Open In Colab\"/></a>"
      ]
    },
    {
      "cell_type": "code",
      "metadata": {
        "id": "Xsg0OgvKbykm"
      },
      "source": [
        "import numpy as np\n",
        "\n",
        "A = np.array([[4,10,8],[10,26,26],[8,26,61]])\n",
        "\n",
        "inv_A = np.linalg.inv(A)\n"
      ],
      "execution_count": 13,
      "outputs": []
    },
    {
      "cell_type": "code",
      "metadata": {
        "id": "EnWypRWecnDY"
      },
      "source": [
        "B= np.array([[44],[128],[214]])\n"
      ],
      "execution_count": 14,
      "outputs": []
    },
    {
      "cell_type": "code",
      "metadata": {
        "colab": {
          "base_uri": "https://localhost:8080/"
        },
        "id": "9myY7Ar_dEKm",
        "outputId": "501cff20-9c81-42e9-a878-a5cef648dc2c"
      },
      "source": [
        "print(A)\n",
        "print(inv_A)\n",
        "print(B)"
      ],
      "execution_count": 15,
      "outputs": [
        {
          "output_type": "stream",
          "name": "stdout",
          "text": [
            "[[ 4 10  8]\n",
            " [10 26 26]\n",
            " [ 8 26 61]]\n",
            "[[ 25.27777778 -11.16666667   1.44444444]\n",
            " [-11.16666667   5.          -0.66666667]\n",
            " [  1.44444444  -0.66666667   0.11111111]]\n",
            "[[ 44]\n",
            " [128]\n",
            " [214]]\n"
          ]
        }
      ]
    },
    {
      "cell_type": "code",
      "metadata": {
        "colab": {
          "base_uri": "https://localhost:8080/"
        },
        "id": "xvYAcaQydvnJ",
        "outputId": "0d33080f-7e14-47e7-f596-9acabedd1f71"
      },
      "source": [
        "X = np.dot(inv_A,B)\n",
        "print(X)"
      ],
      "execution_count": 16,
      "outputs": [
        {
          "output_type": "stream",
          "name": "stdout",
          "text": [
            "[[-8.]\n",
            " [ 6.]\n",
            " [ 2.]]\n"
          ]
        }
      ]
    },
    {
      "cell_type": "code",
      "metadata": {
        "id": "akFRETW2eTYN"
      },
      "source": [
        ""
      ],
      "execution_count": 16,
      "outputs": []
    }
  ]
}