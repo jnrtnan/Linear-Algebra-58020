{
  "nbformat": 4,
  "nbformat_minor": 0,
  "metadata": {
    "colab": {
      "name": "Practical Lab Exam 1.ipynb",
      "provenance": [],
      "toc_visible": true,
      "authorship_tag": "ABX9TyMCsxAOyZTtBth5/HI4eWRL",
      "include_colab_link": true
    },
    "kernelspec": {
      "name": "python3",
      "display_name": "Python 3"
    },
    "language_info": {
      "name": "python"
    }
  },
  "cells": [
    {
      "cell_type": "markdown",
      "metadata": {
        "id": "view-in-github",
        "colab_type": "text"
      },
      "source": [
        "<a href=\"https://colab.research.google.com/github/jnrtnan/Linear-Algebra-58020/blob/main/Practical_Lab_Exam_1.ipynb\" target=\"_parent\"><img src=\"https://colab.research.google.com/assets/colab-badge.svg\" alt=\"Open In Colab\"/></a>"
      ]
    },
    {
      "cell_type": "code",
      "metadata": {
        "id": "MrRBvFJM4VMa"
      },
      "source": [
        "#Practical Lab Exam 1\n",
        "import numpy as np"
      ],
      "execution_count": 61,
      "outputs": []
    },
    {
      "cell_type": "markdown",
      "metadata": {
        "id": "1Pre4c1xDuKn"
      },
      "source": [
        "# PROBLEM 1"
      ]
    },
    {
      "cell_type": "code",
      "metadata": {
        "id": "ON1EpHI5_qGs"
      },
      "source": [
        "#Problem 1 \n",
        "W = np.array(([1,3],[2,-2],[3,1]))\n",
        "X = np.array(([3,2,1],[-1,2,3],[2,-1,1]))\n",
        "Y = np.array(([1,2,0],[0,-1,2]))\n",
        "Z = np.array(([0,1],[2,3]))\n",
        "\n",
        "a = np.dot(w,y)\n",
        "b = np.add(z,z)\n",
        "c = np.dot(3,x)"
      ],
      "execution_count": 62,
      "outputs": []
    },
    {
      "cell_type": "code",
      "metadata": {
        "colab": {
          "base_uri": "https://localhost:8080/"
        },
        "id": "lMBwlcZBCTtX",
        "outputId": "fc53e5d6-ab3c-41ba-e31b-68b545398dcf"
      },
      "source": [
        "#a. WY\n",
        "a = np.dot(W,Y)\n",
        "print(a)"
      ],
      "execution_count": null,
      "outputs": [
        {
          "output_type": "stream",
          "name": "stdout",
          "text": [
            "[[ 1 -1  6]\n",
            " [ 2  6 -4]\n",
            " [ 3  5  2]]\n"
          ]
        }
      ]
    },
    {
      "cell_type": "code",
      "metadata": {
        "colab": {
          "base_uri": "https://localhost:8080/"
        },
        "id": "Rc1vynoNCtux",
        "outputId": "86d5422c-51b5-4ea2-dbcb-e080d3f19a0c"
      },
      "source": [
        "#b. Z+Z\n",
        "b = np.add(Z,Z)\n",
        "print(b)"
      ],
      "execution_count": null,
      "outputs": [
        {
          "output_type": "stream",
          "name": "stdout",
          "text": [
            "[[0 2]\n",
            " [4 6]]\n"
          ]
        }
      ]
    },
    {
      "cell_type": "code",
      "metadata": {
        "colab": {
          "base_uri": "https://localhost:8080/"
        },
        "id": "IYLsdK_eC17P",
        "outputId": "315b13d6-1d5e-41fe-86c3-a7bcba695ce4"
      },
      "source": [
        "#c. 3X\n",
        "c = np.dot(3,X)\n",
        "print(c)"
      ],
      "execution_count": null,
      "outputs": [
        {
          "output_type": "stream",
          "name": "stdout",
          "text": [
            "[[ 9  6  3]\n",
            " [-3  6  9]\n",
            " [ 6 -3  3]]\n"
          ]
        }
      ]
    },
    {
      "cell_type": "markdown",
      "metadata": {
        "id": "-Dd7v1AVD1lT"
      },
      "source": [
        "# PROBLEM 2"
      ]
    },
    {
      "cell_type": "code",
      "metadata": {
        "colab": {
          "base_uri": "https://localhost:8080/"
        },
        "id": "-9Vn8sVhD3uw",
        "outputId": "fd09f95b-e955-47c5-e4c6-4e168b88bc83"
      },
      "source": [
        "#Problem  2\n",
        "\n",
        "#a. \n",
        "l = np.dot(Y,W)**2\n",
        "print(l)\n",
        "\n",
        "#The product (YW)2 is not defined: false"
      ],
      "execution_count": 55,
      "outputs": [
        {
          "output_type": "stream",
          "name": "stdout",
          "text": [
            "[[25  1]\n",
            " [16 16]]\n"
          ]
        }
      ]
    },
    {
      "cell_type": "code",
      "metadata": {
        "colab": {
          "base_uri": "https://localhost:8080/"
        },
        "id": "oxudxCfXF2sf",
        "outputId": "31eb0ab6-360d-4917-dc7c-3cf631e7808f"
      },
      "source": [
        "#b.\n",
        "print(np.mat(W)*np.mat(Y)-X)\n",
        "\n",
        "#false\n"
      ],
      "execution_count": 46,
      "outputs": [
        {
          "output_type": "stream",
          "name": "stdout",
          "text": [
            "[[-2 -3  5]\n",
            " [ 3  4 -7]\n",
            " [ 1  6  1]]\n"
          ]
        }
      ]
    },
    {
      "cell_type": "code",
      "metadata": {
        "id": "sycv1IImG-1k",
        "colab": {
          "base_uri": "https://localhost:8080/"
        },
        "outputId": "668a4ead-2783-4e1d-ec92-b01405cad13e"
      },
      "source": [
        "#c.\n",
        "\n",
        "print(np.dot(Y,W)-Z**2)\n",
        "\n",
        "#false\n",
        "\n"
      ],
      "execution_count": 60,
      "outputs": [
        {
          "output_type": "stream",
          "name": "stdout",
          "text": [
            "[[ 5 -2]\n",
            " [ 0 -5]]\n"
          ]
        }
      ]
    },
    {
      "cell_type": "markdown",
      "metadata": {
        "id": "GXyrJsDQKucV"
      },
      "source": [
        ""
      ]
    }
  ]
}