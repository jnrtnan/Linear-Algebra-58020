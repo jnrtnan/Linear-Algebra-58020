{
  "nbformat": 4,
  "nbformat_minor": 0,
  "metadata": {
    "colab": {
      "name": "Python Exercise  2.ipynb",
      "provenance": [],
      "authorship_tag": "ABX9TyOCVWo1+GdFGFp5KE96PTKu",
      "include_colab_link": true
    },
    "kernelspec": {
      "name": "python3",
      "display_name": "Python 3"
    },
    "language_info": {
      "name": "python"
    }
  },
  "cells": [
    {
      "cell_type": "markdown",
      "metadata": {
        "id": "view-in-github",
        "colab_type": "text"
      },
      "source": [
        "<a href=\"https://colab.research.google.com/github/jnrtnan/Linear-Algebra-58020/blob/main/Python_Exercise_2.ipynb\" target=\"_parent\"><img src=\"https://colab.research.google.com/assets/colab-badge.svg\" alt=\"Open In Colab\"/></a>"
      ]
    },
    {
      "cell_type": "code",
      "metadata": {
        "colab": {
          "base_uri": "https://localhost:8080/"
        },
        "id": "6G7qpZqf4w1J",
        "outputId": "09551faa-2a0c-49ae-fa34-4c8717e50052"
      },
      "source": [
        "import numpy as np\n",
        "\n",
        "A = np.array([4,3])\n",
        "B = np.array([2,-5])\n",
        "print('Vector is A',A)\n",
        "print('Vector is B', B)"
      ],
      "execution_count": 3,
      "outputs": [
        {
          "output_type": "stream",
          "name": "stdout",
          "text": [
            "Vector is A [4 3]\n",
            "Vector is B [ 2 -5]\n"
          ]
        }
      ]
    },
    {
      "cell_type": "code",
      "metadata": {
        "colab": {
          "base_uri": "https://localhost:8080/"
        },
        "id": "puP8qJWS5Cju",
        "outputId": "be8bfd29-419f-4f0f-eebf-9283ba0054d6"
      },
      "source": [
        "ball1 = np.array([1,2,3])\n",
        "ball2 = np.array([0,1,-1])\n",
        "\n",
        "pool = np.array([ball1,ball2])\n",
        "#pool.shape\n",
        "#pool.size\n",
        "pool.ndim"
      ],
      "execution_count": 14,
      "outputs": [
        {
          "output_type": "execute_result",
          "data": {
            "text/plain": [
              "2"
            ]
          },
          "metadata": {},
          "execution_count": 14
        }
      ]
    },
    {
      "cell_type": "code",
      "metadata": {
        "colab": {
          "base_uri": "https://localhost:8080/"
        },
        "id": "GuQmCP5872uV",
        "outputId": "7e42c5c4-b269-4362-8c84-792dc365bd72"
      },
      "source": [
        "print(pool)"
      ],
      "execution_count": 13,
      "outputs": [
        {
          "output_type": "stream",
          "name": "stdout",
          "text": [
            "[[ 1  2  3]\n",
            " [ 0  1 -1]]\n"
          ]
        }
      ]
    },
    {
      "cell_type": "code",
      "metadata": {
        "colab": {
          "base_uri": "https://localhost:8080/"
        },
        "id": "x7EAGw6z8C_0",
        "outputId": "787700c0-d544-424b-b8a4-8a0da7ba96b6"
      },
      "source": [
        "R = A+B\n",
        "print(R)"
      ],
      "execution_count": 15,
      "outputs": [
        {
          "output_type": "stream",
          "name": "stdout",
          "text": [
            "[ 6 -2]\n"
          ]
        }
      ]
    },
    {
      "cell_type": "code",
      "metadata": {
        "id": "0QTsX2B__FsT"
      },
      "source": [
        "R = np.add(A,B)"
      ],
      "execution_count": 16,
      "outputs": []
    },
    {
      "cell_type": "code",
      "metadata": {
        "colab": {
          "base_uri": "https://localhost:8080/"
        },
        "id": "Y_1GpKE0_Jt8",
        "outputId": "31500b43-d618-4dc5-8ad5-f86c1a46f2ca"
      },
      "source": [
        "print(R)\n"
      ],
      "execution_count": 17,
      "outputs": [
        {
          "output_type": "stream",
          "name": "stdout",
          "text": [
            "[ 6 -2]\n"
          ]
        }
      ]
    },
    {
      "cell_type": "code",
      "metadata": {
        "colab": {
          "base_uri": "https://localhost:8080/"
        },
        "id": "XmAgODRY_MDg",
        "outputId": "8be5e9c3-f6f5-4a40-ff05-c3d65adc7f45"
      },
      "source": [
        "R = np.subtract(A,B)\n",
        "R\n"
      ],
      "execution_count": 18,
      "outputs": [
        {
          "output_type": "execute_result",
          "data": {
            "text/plain": [
              "array([2, 8])"
            ]
          },
          "metadata": {},
          "execution_count": 18
        }
      ]
    },
    {
      "cell_type": "code",
      "metadata": {
        "id": "o1ZAVCsr_Z8Y"
      },
      "source": [
        ""
      ],
      "execution_count": null,
      "outputs": []
    }
  ]
}