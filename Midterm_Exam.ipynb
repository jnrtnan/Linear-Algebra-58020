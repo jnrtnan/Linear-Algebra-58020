{
  "nbformat": 4,
  "nbformat_minor": 0,
  "metadata": {
    "colab": {
      "name": "Midterm Exam.ipynb",
      "provenance": [],
      "toc_visible": true,
      "authorship_tag": "ABX9TyPaohM35NMryaDn+IWXyYNI",
      "include_colab_link": true
    },
    "kernelspec": {
      "name": "python3",
      "display_name": "Python 3"
    },
    "language_info": {
      "name": "python"
    }
  },
  "cells": [
    {
      "cell_type": "markdown",
      "metadata": {
        "id": "view-in-github",
        "colab_type": "text"
      },
      "source": [
        "<a href=\"https://colab.research.google.com/github/jnrtnan/Linear-Algebra-58020/blob/main/Midterm_Exam.ipynb\" target=\"_parent\"><img src=\"https://colab.research.google.com/assets/colab-badge.svg\" alt=\"Open In Colab\"/></a>"
      ]
    },
    {
      "cell_type": "markdown",
      "metadata": {
        "id": "zuCQEjw73D8S"
      },
      "source": [
        "# Question 1. Create a Python code that displays a square matrix whose length is 5 (10 points)"
      ]
    },
    {
      "cell_type": "code",
      "metadata": {
        "colab": {
          "base_uri": "https://localhost:8080/"
        },
        "id": "EF9LQwM-3nLg",
        "outputId": "9ede0957-7d95-4da9-deda-31c4911bdf99"
      },
      "source": [
        "import numpy as np\n",
        "\n",
        "q1 = np.array([[1,2,3,4,5],[2,7,5,2,5],[4,5,6,7,8],[5,4,5,6,7],[5,13,5,6,7]]) #5x5 matrix\n",
        "print(q1)"
      ],
      "execution_count": 11,
      "outputs": [
        {
          "output_type": "stream",
          "name": "stdout",
          "text": [
            "[[ 1  2  3  4  5]\n",
            " [ 2  7  5  2  5]\n",
            " [ 4  5  6  7  8]\n",
            " [ 5  4  5  6  7]\n",
            " [ 5 13  5  6  7]]\n"
          ]
        }
      ]
    },
    {
      "cell_type": "markdown",
      "metadata": {
        "id": "Ti9fbCwy3G-S"
      },
      "source": [
        "# Question 2. Create a Python code that displays a square matrix whose elements below the principal diagonal are zero (10 points)"
      ]
    },
    {
      "cell_type": "code",
      "metadata": {
        "colab": {
          "base_uri": "https://localhost:8080/"
        },
        "id": "l4S-ORiO4xlb",
        "outputId": "f3bcc240-05c0-478d-e8d3-b47ea13dbab7"
      },
      "source": [
        "q2 = np.array((1,1,1,1))\n",
        "q2d = np.diag(q2) #to make the matrix 4x4 and make the elements below the principal diagonal zero\n",
        "print(q2d)"
      ],
      "execution_count": 7,
      "outputs": [
        {
          "output_type": "stream",
          "name": "stdout",
          "text": [
            "[[1 0 0 0]\n",
            " [0 1 0 0]\n",
            " [0 0 1 0]\n",
            " [0 0 0 1]]\n"
          ]
        }
      ]
    },
    {
      "cell_type": "markdown",
      "metadata": {
        "id": "mdPCBcW-3J5w"
      },
      "source": [
        "# Question 3. Create a Python code that displays a square matrix which is symmetrical (10 points)"
      ]
    },
    {
      "cell_type": "code",
      "metadata": {
        "colab": {
          "base_uri": "https://localhost:8080/"
        },
        "id": "tYcGk74-5mSQ",
        "outputId": "4e9e0fcc-e5c3-4758-b5f9-329a9c733f0b"
      },
      "source": [
        "q3a = np.array([[2,3,4],[4,4,5,],[6,5,9]])\n",
        "q3b = np.transpose(q3a)\n",
        "\n",
        "print(\"3x3 Matrix \\n\")\n",
        "print(q3a,\"\\n\")\n",
        "print(\"Transpose of the 3x3 Matrix \\n\")\n",
        "print(q3b)\n",
        "#I printed out the transpose of the 3x3 matrix to prove that it is symmetrical"
      ],
      "execution_count": 43,
      "outputs": [
        {
          "output_type": "stream",
          "name": "stdout",
          "text": [
            "3x3 Matrix \n",
            "\n",
            "[[2 3 4]\n",
            " [4 4 5]\n",
            " [6 5 9]] \n",
            "\n",
            "Transpose of the 3x3 Matrix \n",
            "\n",
            "[[2 4 6]\n",
            " [3 4 5]\n",
            " [4 5 9]]\n"
          ]
        }
      ]
    },
    {
      "cell_type": "markdown",
      "metadata": {
        "id": "m7nOwn_M3MT7"
      },
      "source": [
        "# Question 4. What is the inverse of matrix C? Show your solution by python coding. (20 points)"
      ]
    },
    {
      "cell_type": "code",
      "metadata": {
        "colab": {
          "base_uri": "https://localhost:8080/"
        },
        "id": "C3x1EHja6QPl",
        "outputId": "8ac1104b-378b-4fcb-9b6f-bdc15787d363"
      },
      "source": [
        "c = np.array([[1,2,3],[2,3,3],[3,4,-2]])\n",
        "q4 = np.linalg.inv(c) #command to get the inverse of matrix \"c\"\n",
        "print(q4)"
      ],
      "execution_count": 20,
      "outputs": [
        {
          "output_type": "stream",
          "name": "stdout",
          "text": [
            "[[-3.6  3.2 -0.6]\n",
            " [ 2.6 -2.2  0.6]\n",
            " [-0.2  0.4 -0.2]]\n"
          ]
        }
      ]
    },
    {
      "cell_type": "markdown",
      "metadata": {
        "id": "15iA5N2D3QnD"
      },
      "source": [
        "# Question 5. What is the determinant of the given matrix in Question 4? Show your solution by python coding. (20 points)"
      ]
    },
    {
      "cell_type": "code",
      "metadata": {
        "colab": {
          "base_uri": "https://localhost:8080/"
        },
        "id": "uE-5CJ-R7k_W",
        "outputId": "bb5febb5-121e-42b8-eb02-7f7910f9a95d"
      },
      "source": [
        "q5 = np.linalg.det(c) #command to get the determinant of matrix c\n",
        "print(q5)"
      ],
      "execution_count": 24,
      "outputs": [
        {
          "output_type": "stream",
          "name": "stdout",
          "text": [
            "5.000000000000001\n"
          ]
        }
      ]
    },
    {
      "cell_type": "markdown",
      "metadata": {
        "id": "W0pC1GLi3U7b"
      },
      "source": [
        "# Question 6. Find the roots of the linear equations by showing its python codes (30 points)\n",
        "\n",
        "5X1 + 4X2 + X3 = 3.4\n",
        "\n",
        "10X1 + 9X2 + 4X3 = 8.8\n",
        "\n",
        "10X1 + 13X2 + 15X3 = 19.2"
      ]
    },
    {
      "cell_type": "code",
      "metadata": {
        "colab": {
          "base_uri": "https://localhost:8080/"
        },
        "id": "6-JK8y9F8E0f",
        "outputId": "2661b890-4cac-4a07-af10-b96ea6e21ae5"
      },
      "source": [
        "q6a = np.array([[5,4,1],[10,9,4],[10,13,15]])\n",
        "q6inv = np.linalg.inv(q6a)\n",
        "q6b = np.array([[3.4],[8.8],[19.2]])\n",
        "print(\"inverse of matrix A\")\n",
        "print(q6inv,\"\\n\")\n",
        "\n",
        "print(\"Root of the linear eqaution\")\n",
        "q6 = np.dot(q6inv,q6b) \n",
        "print(q6)"
      ],
      "execution_count": 51,
      "outputs": [
        {
          "output_type": "stream",
          "name": "stdout",
          "text": [
            "inverse of matrix A\n",
            "[[ 5.53333333 -3.13333333  0.46666667]\n",
            " [-7.33333333  4.33333333 -0.66666667]\n",
            " [ 2.66666667 -1.66666667  0.33333333]] \n",
            "\n",
            "Root of the linear eqaution\n",
            "[[0.2]\n",
            " [0.4]\n",
            " [0.8]]\n"
          ]
        }
      ]
    },
    {
      "cell_type": "code",
      "metadata": {
        "id": "e4wQpBJr9OVs"
      },
      "source": [
        ""
      ],
      "execution_count": null,
      "outputs": []
    }
  ]
}