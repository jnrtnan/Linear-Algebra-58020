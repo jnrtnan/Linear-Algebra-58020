{
  "nbformat": 4,
  "nbformat_minor": 0,
  "metadata": {
    "colab": {
      "name": "Eigenvalue and Eigenvector.ipynb",
      "provenance": [],
      "collapsed_sections": [],
      "authorship_tag": "ABX9TyPJDsH4Zickb9o7AT97ZjzJ",
      "include_colab_link": true
    },
    "kernelspec": {
      "name": "python3",
      "display_name": "Python 3"
    },
    "language_info": {
      "name": "python"
    }
  },
  "cells": [
    {
      "cell_type": "markdown",
      "metadata": {
        "id": "view-in-github",
        "colab_type": "text"
      },
      "source": [
        "<a href=\"https://colab.research.google.com/github/jnrtnan/Linear-Algebra-58020/blob/main/Eigenvalue_and_Eigenvector.ipynb\" target=\"_parent\"><img src=\"https://colab.research.google.com/assets/colab-badge.svg\" alt=\"Open In Colab\"/></a>"
      ]
    },
    {
      "cell_type": "code",
      "metadata": {
        "colab": {
          "base_uri": "https://localhost:8080/"
        },
        "id": "WCYfRtJxhWwO",
        "outputId": "81a570e1-d8ad-46d8-b092-b14917bda98b"
      },
      "source": [
        "import numpy as np \n",
        "from numpy.linalg import eig\n",
        "\n",
        "\n",
        "a = np.array([[-12,3],[4,1]])\n",
        "\n",
        "b = np.array([[0],[0]])\n",
        "\n",
        "\n",
        "x = np.linalg.solve(a,b)\n",
        "print(x)"
      ],
      "execution_count": 18,
      "outputs": [
        {
          "output_type": "stream",
          "name": "stdout",
          "text": [
            "[[-0.]\n",
            " [ 0.]]\n"
          ]
        }
      ]
    },
    {
      "cell_type": "code",
      "metadata": {
        "colab": {
          "base_uri": "https://localhost:8080/"
        },
        "id": "hUOlcy4VliSL",
        "outputId": "a49c2d71-0ae3-4638-9146-e066e8861a0e"
      },
      "source": [
        "c = np.array([[-6,3],[4,5]])\n",
        "\n",
        "w,v = np.linalg.eig(c)\n",
        "\n",
        "print(\"eigenvalue:\",w)\n",
        "print(\"eigenvector:\",v)"
      ],
      "execution_count": 29,
      "outputs": [
        {
          "output_type": "stream",
          "name": "stdout",
          "text": [
            "eigenvalue: [-7.  6.]\n",
            "eigenvector: [[-0.9486833  -0.24253563]\n",
            " [ 0.31622777 -0.9701425 ]]\n"
          ]
        }
      ]
    },
    {
      "cell_type": "code",
      "metadata": {
        "colab": {
          "base_uri": "https://localhost:8080/"
        },
        "id": "z3dLzep5qmzB",
        "outputId": "c8d9c2ef-0b9d-444e-c975-919459a555f7"
      },
      "source": [
        "d = np.array([[2,2,4],[1,3,5],[2,3,4]])\n",
        "print(d)\n",
        "\n",
        "s,t = np.linalg.eig(d)\n",
        "\n",
        "print(s.round())\n",
        "print(t.round())\n",
        "p = np.dot(d,t.round())\n",
        "print(p)"
      ],
      "execution_count": 42,
      "outputs": [
        {
          "output_type": "stream",
          "name": "stdout",
          "text": [
            "[[2 2 4]\n",
            " [1 3 5]\n",
            " [2 3 4]]\n",
            "[ 9.  1. -1.]\n",
            "[[-1. -1. -0.]\n",
            " [-1.  1. -1.]\n",
            " [-1. -0.  1.]]\n",
            "[[-8.  0.  2.]\n",
            " [-9.  2.  2.]\n",
            " [-9.  1.  1.]]\n"
          ]
        }
      ]
    },
    {
      "cell_type": "code",
      "metadata": {
        "id": "uWBKVxyYudYL"
      },
      "source": [
        ""
      ],
      "execution_count": null,
      "outputs": []
    }
  ]
}