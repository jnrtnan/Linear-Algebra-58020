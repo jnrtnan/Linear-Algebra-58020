{
  "nbformat": 4,
  "nbformat_minor": 0,
  "metadata": {
    "colab": {
      "name": "Matrix Algebra.ipynb",
      "provenance": [],
      "authorship_tag": "ABX9TyPvrOkS45RQzQj3EP34esVZ",
      "include_colab_link": true
    },
    "kernelspec": {
      "name": "python3",
      "display_name": "Python 3"
    },
    "language_info": {
      "name": "python"
    }
  },
  "cells": [
    {
      "cell_type": "markdown",
      "metadata": {
        "id": "view-in-github",
        "colab_type": "text"
      },
      "source": [
        "<a href=\"https://colab.research.google.com/github/jnrtnan/Linear-Algebra-58020/blob/main/Matrix_Algebra.ipynb\" target=\"_parent\"><img src=\"https://colab.research.google.com/assets/colab-badge.svg\" alt=\"Open In Colab\"/></a>"
      ]
    },
    {
      "cell_type": "code",
      "metadata": {
        "colab": {
          "base_uri": "https://localhost:8080/"
        },
        "id": "RFiqcOE-RW_8",
        "outputId": "7ae6bebc-1b16-4ca1-ff2c-b57f6c204dc3"
      },
      "source": [
        "import numpy as np\n",
        "\n",
        "a = np.array([[1,2,3],[5,4,6],[7,8,9]])\n",
        "\n",
        "inva = (np.linalg.inv(a))\n",
        "\n",
        "print(inva)"
      ],
      "execution_count": 8,
      "outputs": [
        {
          "output_type": "stream",
          "name": "stdout",
          "text": [
            "[[-0.66666667  0.33333333  0.        ]\n",
            " [-0.16666667 -0.66666667  0.5       ]\n",
            " [ 0.66666667  0.33333333 -0.33333333]]\n"
          ]
        }
      ]
    },
    {
      "cell_type": "code",
      "metadata": {
        "colab": {
          "base_uri": "https://localhost:8080/"
        },
        "id": "acfq5i52RvXg",
        "outputId": "790e7cfe-68a6-4cd9-8720-7c06b6e45385"
      },
      "source": [
        "c = np.dot(a, inva)\n",
        "print(c)"
      ],
      "execution_count": 12,
      "outputs": [
        {
          "output_type": "stream",
          "name": "stdout",
          "text": [
            "[[ 1.00000000e+00 -1.66533454e-16  5.55111512e-17]\n",
            " [ 8.88178420e-16  1.00000000e+00  1.11022302e-16]\n",
            " [ 4.44089210e-16 -5.55111512e-17  1.00000000e+00]]\n"
          ]
        }
      ]
    },
    {
      "cell_type": "code",
      "metadata": {
        "colab": {
          "base_uri": "https://localhost:8080/"
        },
        "id": "P4wsD3nATAtI",
        "outputId": "bcadf1eb-d42b-46e7-e160-66330e221681"
      },
      "source": [
        " d = np.transpose(a)\n",
        " print(d)"
      ],
      "execution_count": 13,
      "outputs": [
        {
          "output_type": "stream",
          "name": "stdout",
          "text": [
            "[[1 5 7]\n",
            " [2 4 8]\n",
            " [3 6 9]]\n"
          ]
        }
      ]
    },
    {
      "cell_type": "code",
      "metadata": {
        "id": "Amo-wT_7TtAf"
      },
      "source": [
        ""
      ],
      "execution_count": null,
      "outputs": []
    }
  ]
}