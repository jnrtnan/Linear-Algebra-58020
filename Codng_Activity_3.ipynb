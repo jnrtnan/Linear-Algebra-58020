{
  "nbformat": 4,
  "nbformat_minor": 0,
  "metadata": {
    "colab": {
      "name": "Codng Activity 3.ipynb",
      "provenance": [],
      "collapsed_sections": [],
      "authorship_tag": "ABX9TyNvrXRfQ0ev1E+v8smm+2tO",
      "include_colab_link": true
    },
    "kernelspec": {
      "name": "python3",
      "display_name": "Python 3"
    },
    "language_info": {
      "name": "python"
    }
  },
  "cells": [
    {
      "cell_type": "markdown",
      "metadata": {
        "id": "view-in-github",
        "colab_type": "text"
      },
      "source": [
        "<a href=\"https://colab.research.google.com/github/jnrtnan/Linear-Algebra-58020/blob/main/Codng_Activity_3.ipynb\" target=\"_parent\"><img src=\"https://colab.research.google.com/assets/colab-badge.svg\" alt=\"Open In Colab\"/></a>"
      ]
    },
    {
      "cell_type": "markdown",
      "metadata": {
        "id": "sUUdCrV-T6ZZ"
      },
      "source": [
        "\n",
        "# CODING ACTIVITY 3\n",
        "\n"
      ]
    },
    {
      "cell_type": "markdown",
      "metadata": {
        "id": "1npvOxwXUK5Q"
      },
      "source": [
        "Create a Python program that applies an inverse of 3x3 or 4x4 matrix and apply also its transpose."
      ]
    },
    {
      "cell_type": "code",
      "metadata": {
        "colab": {
          "base_uri": "https://localhost:8080/"
        },
        "id": "cAmgBRB2UO43",
        "outputId": "e266d034-95dd-4b8f-8550-0ec002ed1272"
      },
      "source": [
        "import numpy as np\n",
        "\n",
        "#3x3 matix\n",
        "a=np.array([[4,5,5],[2,9,0],[3,4,7]])\n",
        "print(\"3x3 matrix\")\n",
        "print(a,\"\\n\")\n",
        "\n",
        "#inverse of 3x3 matrix\n",
        "inva = (np.linalg.inv(a))\n",
        "print(\"Inverse of the 3x3 matrix\")\n",
        "print(inva,\"\\n\")\n",
        "\n",
        "#transpose of 3x3 matrix\n",
        "b = np.transpose(a)\n",
        "print(\"Transpose of 3x3 matrix\")\n",
        "print(b)\n",
        "\n",
        "\n"
      ],
      "execution_count": 10,
      "outputs": [
        {
          "output_type": "stream",
          "name": "stdout",
          "text": [
            "3x3 matrix\n",
            "[[4 5 5]\n",
            " [2 9 0]\n",
            " [3 4 7]] \n",
            "\n",
            "Inverse of the 3x3 matrix\n",
            "[[ 0.72413793 -0.17241379 -0.51724138]\n",
            " [-0.16091954  0.14942529  0.11494253]\n",
            " [-0.2183908  -0.01149425  0.29885057]] \n",
            "\n",
            "Transpose of 3x3 matrix\n",
            "[[4 2 3]\n",
            " [5 9 4]\n",
            " [5 0 7]]\n"
          ]
        }
      ]
    },
    {
      "cell_type": "code",
      "metadata": {
        "colab": {
          "base_uri": "https://localhost:8080/"
        },
        "id": "Iqa85YJxU0Fd",
        "outputId": "dea368eb-9c41-4407-9f2c-06988dda4692"
      },
      "source": [
        "import numpy as np\n",
        "\n",
        "#4x4 matrix\n",
        "c=np.array([[2,6,4,5],[1,2,6,9],[7,5,3,3],[3,4,5,6]])\n",
        "print(\"4x4 matrix\")\n",
        "print(c,\"\\n\")\n",
        "\n",
        "#inverse of 4x4 matrix\n",
        "invc = (np.linalg.inv(c))\n",
        "print(\"Inverse of the 4x4 matrix\")\n",
        "print(invc,\"\\n\")\n",
        "\n",
        "#transpose of 4x4 matrix\n",
        "d = np.transpose(c)\n",
        "print(\"Transpose of 4x4 matrix\")\n",
        "print(d)"
      ],
      "execution_count": 11,
      "outputs": [
        {
          "output_type": "stream",
          "name": "stdout",
          "text": [
            "4x4 matrix\n",
            "[[2 6 4 5]\n",
            " [1 2 6 9]\n",
            " [7 5 3 3]\n",
            " [3 4 5 6]] \n",
            "\n",
            "Inverse of the 4x4 matrix\n",
            "[[-0.12195122  0.08943089  0.22764228 -0.14634146]\n",
            " [ 0.31707317 -0.03252033  0.00813008 -0.2195122 ]\n",
            " [-0.56097561 -0.78861789 -0.55284553  1.92682927]\n",
            " [ 0.31707317  0.63414634  0.34146341 -1.2195122 ]] \n",
            "\n",
            "Transpose of 4x4 matrix\n",
            "[[2 1 7 3]\n",
            " [6 2 5 4]\n",
            " [4 6 3 5]\n",
            " [5 9 3 6]]\n"
          ]
        }
      ]
    },
    {
      "cell_type": "code",
      "metadata": {
        "id": "hAFrgqKLWD6q"
      },
      "source": [
        ""
      ],
      "execution_count": null,
      "outputs": []
    }
  ]
}